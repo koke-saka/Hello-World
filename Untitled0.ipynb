{
  "nbformat": 4,
  "nbformat_minor": 0,
  "metadata": {
    "colab": {
      "name": "Untitled0.ipynb",
      "provenance": [],
      "include_colab_link": true
    },
    "kernelspec": {
      "name": "python3",
      "display_name": "Python 3"
    }
  },
  "cells": [
    {
      "cell_type": "markdown",
      "metadata": {
        "id": "view-in-github",
        "colab_type": "text"
      },
      "source": [
        "<a href=\"https://colab.research.google.com/github/koke-saka/Hello-World/blob/master/Untitled0.ipynb\" target=\"_parent\"><img src=\"https://colab.research.google.com/assets/colab-badge.svg\" alt=\"Open In Colab\"/></a>"
      ]
    },
    {
      "cell_type": "code",
      "metadata": {
        "id": "XsO42ye-WHyR",
        "colab_type": "code",
        "colab": {}
      },
      "source": [
        "import numpy as np\n",
        "import matplotlib.pyplot as plt"
      ],
      "execution_count": 0,
      "outputs": []
    },
    {
      "cell_type": "code",
      "metadata": {
        "id": "KHifTjB4WKgT",
        "colab_type": "code",
        "colab": {}
      },
      "source": [
        "N = 1000\n",
        "list10t = np.zeros(N)\n",
        "list100t = np.zeros(N)\n",
        "list1m = np.zeros(N)"
      ],
      "execution_count": 0,
      "outputs": []
    },
    {
      "cell_type": "code",
      "metadata": {
        "id": "Uv9twHldWRz2",
        "colab_type": "code",
        "colab": {}
      },
      "source": [
        "n = 100000\n",
        "counter = 0\n",
        "for i in range(N):\n",
        "  counter = 0\n",
        "  for j in range(n):\n",
        "    x = np.random.rand()\n",
        "    y = np.random.rand()\n",
        "    if (x**2+y**2)<=1:\n",
        "      counter+=1\n",
        "  p = counter/n\n",
        "  pi = 4*p\n",
        "  list100t[i]=pi"
      ],
      "execution_count": 0,
      "outputs": []
    },
    {
      "cell_type": "code",
      "metadata": {
        "id": "PJhAKxwvXMok",
        "colab_type": "code",
        "outputId": "d1805203-f483-4d02-d53f-2795f5f1847f",
        "colab": {
          "base_uri": "https://localhost:8080/",
          "height": 337
        }
      },
      "source": [
        "plt.hist(list10t)"
      ],
      "execution_count": 17,
      "outputs": [
        {
          "output_type": "execute_result",
          "data": {
            "text/plain": [
              "(array([  3.,  21.,  56., 134., 194., 275., 182.,  88.,  37.,  10.]),\n",
              " array([3.0864 , 3.09664, 3.10688, 3.11712, 3.12736, 3.1376 , 3.14784,\n",
              "        3.15808, 3.16832, 3.17856, 3.1888 ]),\n",
              " <a list of 10 Patch objects>)"
            ]
          },
          "metadata": {
            "tags": []
          },
          "execution_count": 17
        },
        {
          "output_type": "display_data",
          "data": {
            "image/png": "[encoded data removed]",
            "text/plain": [
              "<Figure size 432x288 with 1 Axes>"
            ]
          },
          "metadata": {
            "tags": []
          }
        }
      ]
    },
    {
      "cell_type": "code",
      "metadata": {
        "id": "5rJt1nx3Xv6i",
        "colab_type": "code",
        "outputId": "4cfee59b-0c97-4839-d7c2-fc30cb9d181a",
        "colab": {
          "base_uri": "https://localhost:8080/",
          "height": 337
        }
      },
      "source": [
        "plt.hist(list100t)"
      ],
      "execution_count": 18,
      "outputs": [
        {
          "output_type": "execute_result",
          "data": {
            "text/plain": [
              "(array([  3.,  18.,  87., 218., 332., 208., 103.,  27.,   3.,   1.]),\n",
              " array([3.12348 , 3.127544, 3.131608, 3.135672, 3.139736, 3.1438  ,\n",
              "        3.147864, 3.151928, 3.155992, 3.160056, 3.16412 ]),\n",
              " <a list of 10 Patch objects>)"
            ]
          },
          "metadata": {
            "tags": []
          },
          "execution_count": 18
        },
        {
          "output_type": "display_data",
          "data": {
            "image/png": "[encoded data removed]",
            "text/plain": [
              "<Figure size 432x288 with 1 Axes>"
            ]
          },
          "metadata": {
            "tags": []
          }
        }
      ]
    },
    {
      "cell_type": "code",
      "metadata": {
        "id": "bTJoAHnjZlHD",
        "colab_type": "code",
        "outputId": "d4fcac9d-99e5-4b74-9014-6feeb48348aa",
        "colab": {
          "base_uri": "https://localhost:8080/",
          "height": 35
        }
      },
      "source": [
        "np.mean(list10t)"
      ],
      "execution_count": 13,
      "outputs": [
        {
          "output_type": "execute_result",
          "data": {
            "text/plain": [
              "3.1404695999999994"
            ]
          },
          "metadata": {
            "tags": []
          },
          "execution_count": 13
        }
      ]
    },
    {
      "cell_type": "code",
      "metadata": {
        "id": "FtD7NdRIZ1-i",
        "colab_type": "code",
        "outputId": "61ca1a51-0ecf-48ae-ba9f-37a49248b23c",
        "colab": {
          "base_uri": "https://localhost:8080/",
          "height": 35
        }
      },
      "source": [
        "np.var(list10t)"
      ],
      "execution_count": 14,
      "outputs": [
        {
          "output_type": "execute_result",
          "data": {
            "text/plain": [
              "0.00026505915584"
            ]
          },
          "metadata": {
            "tags": []
          },
          "execution_count": 14
        }
      ]
    },
    {
      "cell_type": "code",
      "metadata": {
        "id": "Ktrn4XpMZ6z5",
        "colab_type": "code",
        "outputId": "8779edf7-bbfd-41f9-c5f3-52fe0fa804e7",
        "colab": {
          "base_uri": "https://localhost:8080/",
          "height": 35
        }
      },
      "source": [
        "np.mean(list100t)"
      ],
      "execution_count": 15,
      "outputs": [
        {
          "output_type": "execute_result",
          "data": {
            "text/plain": [
              "3.14194608"
            ]
          },
          "metadata": {
            "tags": []
          },
          "execution_count": 15
        }
      ]
    },
    {
      "cell_type": "code",
      "metadata": {
        "id": "BwEU-6Y6Z-S2",
        "colab_type": "code",
        "outputId": "a51190b3-6ec1-452f-fe0c-70e26db5f39c",
        "colab": {
          "base_uri": "https://localhost:8080/",
          "height": 35
        }
      },
      "source": [
        "np.var(list100t)"
      ],
      "execution_count": 16,
      "outputs": [
        {
          "output_type": "execute_result",
          "data": {
            "text/plain": [
              "2.730858703360004e-05"
            ]
          },
          "metadata": {
            "tags": []
          },
          "execution_count": 16
        }
      ]
    },
    {
      "cell_type": "code",
      "metadata": {
        "id": "epsJUenFaInG",
        "colab_type": "code",
        "colab": {}
      },
      "source": [
        ""
      ],
      "execution_count": 0,
      "outputs": []
    }
  ]
}